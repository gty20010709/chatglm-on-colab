{
  "cells": [
    {
      "cell_type": "markdown",
      "metadata": {
        "id": "HjpJmZq8Y9q2"
      },
      "source": [
        "# 如何在 Google Colab 部署 ChatGLM2-6B (int4量化版本)\n",
        "\n",
        "0. 步骤\n",
        "\n",
        "  - 安装环境\n",
        "  - 下载模型\n",
        "  - 部署完成，开始使用\n",
        "\n",
        "1. 为什要安装量化的版本？\n",
        "  - Colab 免费版本所提供的运行内存只有 12G 多，不到 13G， 没有办法满足运行的需求。\n",
        "\n",
        "2. 安装有哪些注意事项？\n",
        "\n",
        "  - 注意将运行环境切换到有 GPU 的版本。"
      ]
    },
    {
      "cell_type": "code",
      "execution_count": null,
      "metadata": {
        "id": "A0dEhMXidXCt"
      },
      "outputs": [],
      "source": [
        "# 如果报错： NotImplementedError: A UTF-8 locale is required. Got ANSI_X3.4-1968\n",
        "# 就把下面四行取消注释\n",
        "\n",
        "# import locale\n",
        "# def getpreferredencoding(do_setlocale = True):\n",
        "#     return \"UTF-8\"\n",
        "# locale.getpreferredencoding = getpreferredencoding\n",
        "\n",
        "\n",
        "!pip install protobuf\n",
        "!pip install transformers==4.30.2\n",
        "!pip install cpm_kernels\n",
        "!pip install torch>=2.0\n",
        "!pip install gradio\n",
        "!pip install mdtex2html\n",
        "!pip install sentencepiece\n",
        "!pip install accelerate\n",
        "!pip install sse-starlette\n",
        "!pip install streamlit>=1.24.0"
      ]
    },
    {
      "cell_type": "code",
      "execution_count": null,
      "metadata": {
        "id": "A6kGkkiPdDHA"
      },
      "outputs": [],
      "source": [
        "from transformers import AutoTokenizer, AutoModel\n",
        "tokenizer = AutoTokenizer.from_pretrained(\"THUDM/chatglm2-6b-int4\", trust_remote_code=True)\n",
        "model = AutoModel.from_pretrained(\"THUDM/chatglm2-6b-int4\", trust_remote_code=True).half().cuda()\n",
        "model = model.eval()\n"
      ]
    },
    {
      "cell_type": "code",
      "execution_count": 10,
      "metadata": {
        "colab": {
          "base_uri": "https://localhost:8080/"
        },
        "id": "1GfFFihveyZg",
        "outputId": "ddb95e00-6d60-4cd5-c8ae-ea8d4375f3bc"
      },
      "outputs": [
        {
          "name": "stdout",
          "output_type": "stream",
          "text": [
            "当然可以,以下是一个使用 Python 实现的冒泡排序算法,带有注释:\n",
            "\n",
            "```python\n",
            "def bubble_sort(arr):\n",
            "    # 定义一个列表,用于存储需要排序的数组\n",
            "    pass_list = []\n",
            "    \n",
            "    # 遍历列表中的所有元素\n",
            "    for i in range(len(arr)):\n",
            "        # 定义一个布尔变量,用于存储当前元素是否需要交换位置\n",
            "        current_swapped = False\n",
            "        \n",
            "        # 遍历列表中的所有元素,从第二个元素开始\n",
            "        for j in range(len(arr)-i-1):\n",
            "            # 如果当前元素比后面一个元素大,则交换位置\n",
            "            if arr[j] > arr[j+1]:\n",
            "                arr[j], arr[j+1] = arr[j+1], arr[j]\n",
            "                current_swapped = True\n",
            "                break\n",
            "                # 如果当前元素不大于后面一个元素,则不需要交换位置\n",
            "                pass\n",
            "        # 如果当前元素不需要交换位置,则说明列表已经排好序,可以不用再次遍历\n",
            "        if current_swapped:\n",
            "            pass_list.append(i)\n",
            "    \n",
            "    # 如果列表中还有元素需要排序,则需要再次遍历列表\n",
            "    for i in range(len(arr)):\n",
            "        # 如果列表中还有元素需要排序,则遍历列表中的所有元素\n",
            "        pass\n",
            "    \n",
            "    # 输出排序后的数组\n",
            "    return arr\n",
            "```\n",
            "\n",
            "这个冒泡排序的实现中,我们首先定义了一个列表 `arr` 用于存储需要排序的数组。接着,我们定义了一个布尔变量 `current_swapped` 来记录当前元素是否需要交换位置,以及一个布尔变量 `passed_through` 来记录是否已经遍历完整个列表。\n",
            "\n",
            "在循环中,我们遍历列表中的所有元素,从第二个元素开始。对于每个元素,我们首先判断当前元素是否比后面一个元素大,如果是,则交换位置,并且将 `current_swapped` 设置为 `True`。如果当前元素不大于后面一个元素,则不需要交换位置,将 `passed_through` 设置为 `True`。\n",
            "\n",
            "在每一次交换操作后,我们将 `passed_through` 设置为 `False`,表示当前已经遍历完整个列表,可以不再进行交换。\n",
            "\n",
            "最后,在循环结束后,我们还需要检查列表中是否还有元素需要排序,如果有,则再次遍历列表中的所有元素。\n",
            "\n",
            "整个冒泡排序算法的时间复杂度为 $O(n^2)$,其中 $n$ 是列表的长度。"
          ]
        }
      ],
      "source": [
        "history = []\n",
        "question = \"\"\"\n",
        "用 Python 写一个冒泡排序；记得写注释。\n",
        "\"\"\"\n",
        "\n",
        "\n",
        "flag = 0\n",
        "for response, history in model.stream_chat(tokenizer, question, history=history):\n",
        "  target_response = response[flag:len(response) + 1]\n",
        "  print(target_response, end=\"\")\n",
        "  flag += len(target_response)\n"
      ]
    }
  ],
  "metadata": {
    "accelerator": "GPU",
    "colab": {
      "gpuType": "T4",
      "provenance": []
    },
    "kernelspec": {
      "display_name": "Python 3",
      "name": "python3"
    },
    "language_info": {
      "name": "python"
    }
  },
  "nbformat": 4,
  "nbformat_minor": 0
}
